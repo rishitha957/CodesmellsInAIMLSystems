{
 "cells": [
  {
   "cell_type": "code",
   "execution_count": 8,
   "metadata": {},
   "outputs": [],
   "source": [
    "from selenium import webdriver\n",
    "from time import sleep\n",
    "from bs4 import BeautifulSoup, Comment\n",
    "import pandas as pd\n",
    "import csv"
   ]
  },
  {
   "cell_type": "code",
   "execution_count": 28,
   "metadata": {},
   "outputs": [],
   "source": [
    "first_10 = \"https://github.com/search?o=desc&q=machine+learning&s=forks&type=Repositories\""
   ]
  },
  {
   "cell_type": "code",
   "execution_count": 30,
   "metadata": {},
   "outputs": [],
   "source": [
    "driver = webdriver.Firefox()\n",
    "driver.get(first_10)"
   ]
  },
  {
   "cell_type": "code",
   "execution_count": 31,
   "metadata": {},
   "outputs": [],
   "source": [
    "lenOfPage = driver.execute_script(\"window.scrollTo(0, document.body.scrollHeight);var lenOfPage=document.body.scrollHeight;return lenOfPage;\")\n",
    "match=False\n",
    "while(match==False):\n",
    "    lastCount = lenOfPage\n",
    "    sleep(1)\n",
    "    lenOfPage = driver.execute_script(\"window.scrollTo(0, document.body.scrollHeight);var lenOfPage=document.body.scrollHeight;return lenOfPage;\")\n",
    "    if lastCount==lenOfPage:\n",
    "        try:\n",
    "            n = 30\n",
    "            driver.find_element_by_xpath('//a[@class=\"v-align-middle\"]')\n",
    "            while(n>0):\n",
    "                n = n -1\n",
    "                lastCount = lenOfPage\n",
    "                sleep(2)\n",
    "                lenOfPage = driver.execute_script(\"window.scrollTo(0, document.body.scrollHeight);var lenOfPage=document.body.scrollHeight;return lenOfPage;\")\n",
    "                if(lenOfPage==lastCount):\n",
    "                    driver.find_element_by_xpath('//a[@class=\"v-align-middle\"]')\n",
    "        except NameError: \n",
    "            print(\"Name Error\")\n",
    "        else:\n",
    "            match=True"
   ]
  },
  {
   "cell_type": "code",
   "execution_count": 32,
   "metadata": {},
   "outputs": [],
   "source": [
    "url_list = []\n",
    "url_obj = driver.find_elements_by_xpath('//a[@class=\"v-align-middle\"]')\n",
    "for obj in url_obj:\n",
    "    url_list.append(obj.get_attribute('href'))"
   ]
  },
  {
   "cell_type": "code",
   "execution_count": 33,
   "metadata": {},
   "outputs": [
    {
     "data": {
      "text/plain": [
       "['https://github.com/tensorflow/tensorflow',\n",
       " 'https://github.com/scikit-learn/scikit-learn',\n",
       " 'https://github.com/josephmisiti/awesome-machine-learning',\n",
       " 'https://github.com/ageron/handson-ml',\n",
       " 'https://github.com/vivienzou1/DL-Notes-for-Interview',\n",
       " 'https://github.com/fighting41love/funNLP',\n",
       " 'https://github.com/udacity/machine-learning',\n",
       " 'https://github.com/ZuzooVn/machine-learning-for-software-engineers',\n",
       " 'https://github.com/lazyprogrammer/machine_learning_examples',\n",
       " 'https://github.com/Yorko/mlcourse.ai']"
      ]
     },
     "execution_count": 33,
     "metadata": {},
     "output_type": "execute_result"
    }
   ],
   "source": [
    "url_list"
   ]
  },
  {
   "cell_type": "code",
   "execution_count": 34,
   "metadata": {},
   "outputs": [
    {
     "name": "stdout",
     "output_type": "stream",
     "text": [
      "140\n"
     ]
    }
   ],
   "source": [
    "for i in range(2,15):\n",
    "    each_page_url = \"https://github.com/search?o=desc&p=2&q=machine+learning&s=forks&type=Repositories\"\n",
    "    driver.get(each_page_url)\n",
    "    sleep(2)\n",
    "    url_obj = driver.find_elements_by_xpath('//a[@class=\"v-align-middle\"]')\n",
    "    for obj in url_obj:\n",
    "        url_list.append(obj.get_attribute('href'))\n",
    "print(len(url_list))"
   ]
  },
  {
   "cell_type": "code",
   "execution_count": 15,
   "metadata": {},
   "outputs": [
    {
     "name": "stdout",
     "output_type": "stream",
     "text": [
      "100\n"
     ]
    }
   ],
   "source": [
    "sklearn_urls = \"https://github.com/search?q=sklearn&s=forks\"\n",
    "driver.get(sklearn_urls)\n",
    "url_obj = driver.find_elements_by_xpath('//a[@class=\"v-align-middle\"]')\n",
    "for obj in url_obj:\n",
    "    url_list.append(obj.get_attribute('href'))\n",
    "print(len(url_list))"
   ]
  },
  {
   "cell_type": "code",
   "execution_count": 16,
   "metadata": {},
   "outputs": [
    {
     "name": "stdout",
     "output_type": "stream",
     "text": [
      "160\n"
     ]
    }
   ],
   "source": [
    "for i in range(2,15):\n",
    "    each_page_url = \"https://github.com/search?p=\"+str(i)+\"&q=sklearn&s=forks&type=Repositories\"\n",
    "    driver.get(each_page_url)\n",
    "    sleep(2)\n",
    "    url_obj = driver.find_elements_by_xpath('//a[@class=\"v-align-middle\"]')\n",
    "    for obj in url_obj:\n",
    "        url_list.append(obj.get_attribute('href'))\n",
    "print(len(url_list))"
   ]
  },
  {
   "cell_type": "code",
   "execution_count": 17,
   "metadata": {},
   "outputs": [
    {
     "name": "stdout",
     "output_type": "stream",
     "text": [
      "170\n",
      "240\n"
     ]
    }
   ],
   "source": [
    "sklearn_urls = \"https://github.com/search?q=data+science+project\"\n",
    "driver.get(sklearn_urls)\n",
    "url_obj = driver.find_elements_by_xpath('//a[@class=\"v-align-middle\"]')\n",
    "for obj in url_obj:\n",
    "    url_list.append(obj.get_attribute('href'))\n",
    "print(len(url_list))\n",
    "for i in range(2,15):\n",
    "    each_page_url = \"https://github.com/search?p=\"+str(i)+\"&q=data+science+project&type=Repositories\"\n",
    "    driver.get(each_page_url)\n",
    "    sleep(2)\n",
    "    url_obj = driver.find_elements_by_xpath('//a[@class=\"v-align-middle\"]')\n",
    "    for obj in url_obj:\n",
    "        url_list.append(obj.get_attribute('href'))\n",
    "print(len(url_list))"
   ]
  },
  {
   "cell_type": "code",
   "execution_count": 42,
   "metadata": {},
   "outputs": [
    {
     "name": "stdout",
     "output_type": "stream",
     "text": [
      "['tensorflow']\n",
      "[]\n"
     ]
    },
    {
     "ename": "NoSuchElementException",
     "evalue": "Message: Unable to locate element: //div/h2[@class=\"h4 mb-3\"]/a/span[@class=\"Counter\"]\n",
     "output_type": "error",
     "traceback": [
      "\u001b[1;31m---------------------------------------------------------------------------\u001b[0m",
      "\u001b[1;31mNoSuchElementException\u001b[0m                    Traceback (most recent call last)",
      "\u001b[1;32m<ipython-input-42-0f8337a6c8c0>\u001b[0m in \u001b[0;36m<module>\u001b[1;34m\u001b[0m\n\u001b[0;32m     36\u001b[0m     \u001b[0mprint\u001b[0m\u001b[1;33m(\u001b[0m\u001b[0mreleases_list\u001b[0m\u001b[1;33m)\u001b[0m\u001b[1;33m\u001b[0m\u001b[1;33m\u001b[0m\u001b[0m\n\u001b[0;32m     37\u001b[0m     \u001b[0mcontributor_list\u001b[0m \u001b[1;33m=\u001b[0m \u001b[1;33m[\u001b[0m\u001b[1;33m]\u001b[0m\u001b[1;33m\u001b[0m\u001b[1;33m\u001b[0m\u001b[0m\n\u001b[1;32m---> 38\u001b[1;33m     \u001b[0mcontributor_list\u001b[0m\u001b[1;33m.\u001b[0m\u001b[0mappend\u001b[0m\u001b[1;33m(\u001b[0m\u001b[0mdriver\u001b[0m\u001b[1;33m.\u001b[0m\u001b[0mfind_element_by_xpath\u001b[0m\u001b[1;33m(\u001b[0m\u001b[1;34m'//div/h2[@class=\"h4 mb-3\"]/a/span[@class=\"Counter\"]'\u001b[0m\u001b[1;33m)\u001b[0m\u001b[1;33m.\u001b[0m\u001b[0mtext\u001b[0m\u001b[1;33m)\u001b[0m\u001b[1;33m\u001b[0m\u001b[1;33m\u001b[0m\u001b[0m\n\u001b[0m\u001b[0;32m     39\u001b[0m     \u001b[0mprint\u001b[0m\u001b[1;33m(\u001b[0m\u001b[0mcontributor_list\u001b[0m\u001b[1;33m)\u001b[0m\u001b[1;33m\u001b[0m\u001b[1;33m\u001b[0m\u001b[0m\n\u001b[0;32m     40\u001b[0m     \u001b[0mtemp\u001b[0m \u001b[1;33m=\u001b[0m \u001b[1;33m[\u001b[0m\u001b[1;33m]\u001b[0m\u001b[1;33m\u001b[0m\u001b[1;33m\u001b[0m\u001b[0m\n",
      "\u001b[1;32m~\\anaconda3\\lib\\site-packages\\selenium\\webdriver\\remote\\webdriver.py\u001b[0m in \u001b[0;36mfind_element_by_xpath\u001b[1;34m(self, xpath)\u001b[0m\n\u001b[0;32m    392\u001b[0m             \u001b[0melement\u001b[0m \u001b[1;33m=\u001b[0m \u001b[0mdriver\u001b[0m\u001b[1;33m.\u001b[0m\u001b[0mfind_element_by_xpath\u001b[0m\u001b[1;33m(\u001b[0m\u001b[1;34m'//div/td[1]'\u001b[0m\u001b[1;33m)\u001b[0m\u001b[1;33m\u001b[0m\u001b[1;33m\u001b[0m\u001b[0m\n\u001b[0;32m    393\u001b[0m         \"\"\"\n\u001b[1;32m--> 394\u001b[1;33m         \u001b[1;32mreturn\u001b[0m \u001b[0mself\u001b[0m\u001b[1;33m.\u001b[0m\u001b[0mfind_element\u001b[0m\u001b[1;33m(\u001b[0m\u001b[0mby\u001b[0m\u001b[1;33m=\u001b[0m\u001b[0mBy\u001b[0m\u001b[1;33m.\u001b[0m\u001b[0mXPATH\u001b[0m\u001b[1;33m,\u001b[0m \u001b[0mvalue\u001b[0m\u001b[1;33m=\u001b[0m\u001b[0mxpath\u001b[0m\u001b[1;33m)\u001b[0m\u001b[1;33m\u001b[0m\u001b[1;33m\u001b[0m\u001b[0m\n\u001b[0m\u001b[0;32m    395\u001b[0m \u001b[1;33m\u001b[0m\u001b[0m\n\u001b[0;32m    396\u001b[0m     \u001b[1;32mdef\u001b[0m \u001b[0mfind_elements_by_xpath\u001b[0m\u001b[1;33m(\u001b[0m\u001b[0mself\u001b[0m\u001b[1;33m,\u001b[0m \u001b[0mxpath\u001b[0m\u001b[1;33m)\u001b[0m\u001b[1;33m:\u001b[0m\u001b[1;33m\u001b[0m\u001b[1;33m\u001b[0m\u001b[0m\n",
      "\u001b[1;32m~\\anaconda3\\lib\\site-packages\\selenium\\webdriver\\remote\\webdriver.py\u001b[0m in \u001b[0;36mfind_element\u001b[1;34m(self, by, value)\u001b[0m\n\u001b[0;32m    974\u001b[0m                 \u001b[0mby\u001b[0m \u001b[1;33m=\u001b[0m \u001b[0mBy\u001b[0m\u001b[1;33m.\u001b[0m\u001b[0mCSS_SELECTOR\u001b[0m\u001b[1;33m\u001b[0m\u001b[1;33m\u001b[0m\u001b[0m\n\u001b[0;32m    975\u001b[0m                 \u001b[0mvalue\u001b[0m \u001b[1;33m=\u001b[0m \u001b[1;34m'[name=\"%s\"]'\u001b[0m \u001b[1;33m%\u001b[0m \u001b[0mvalue\u001b[0m\u001b[1;33m\u001b[0m\u001b[1;33m\u001b[0m\u001b[0m\n\u001b[1;32m--> 976\u001b[1;33m         return self.execute(Command.FIND_ELEMENT, {\n\u001b[0m\u001b[0;32m    977\u001b[0m             \u001b[1;34m'using'\u001b[0m\u001b[1;33m:\u001b[0m \u001b[0mby\u001b[0m\u001b[1;33m,\u001b[0m\u001b[1;33m\u001b[0m\u001b[1;33m\u001b[0m\u001b[0m\n\u001b[0;32m    978\u001b[0m             'value': value})['value']\n",
      "\u001b[1;32m~\\anaconda3\\lib\\site-packages\\selenium\\webdriver\\remote\\webdriver.py\u001b[0m in \u001b[0;36mexecute\u001b[1;34m(self, driver_command, params)\u001b[0m\n\u001b[0;32m    319\u001b[0m         \u001b[0mresponse\u001b[0m \u001b[1;33m=\u001b[0m \u001b[0mself\u001b[0m\u001b[1;33m.\u001b[0m\u001b[0mcommand_executor\u001b[0m\u001b[1;33m.\u001b[0m\u001b[0mexecute\u001b[0m\u001b[1;33m(\u001b[0m\u001b[0mdriver_command\u001b[0m\u001b[1;33m,\u001b[0m \u001b[0mparams\u001b[0m\u001b[1;33m)\u001b[0m\u001b[1;33m\u001b[0m\u001b[1;33m\u001b[0m\u001b[0m\n\u001b[0;32m    320\u001b[0m         \u001b[1;32mif\u001b[0m \u001b[0mresponse\u001b[0m\u001b[1;33m:\u001b[0m\u001b[1;33m\u001b[0m\u001b[1;33m\u001b[0m\u001b[0m\n\u001b[1;32m--> 321\u001b[1;33m             \u001b[0mself\u001b[0m\u001b[1;33m.\u001b[0m\u001b[0merror_handler\u001b[0m\u001b[1;33m.\u001b[0m\u001b[0mcheck_response\u001b[0m\u001b[1;33m(\u001b[0m\u001b[0mresponse\u001b[0m\u001b[1;33m)\u001b[0m\u001b[1;33m\u001b[0m\u001b[1;33m\u001b[0m\u001b[0m\n\u001b[0m\u001b[0;32m    322\u001b[0m             response['value'] = self._unwrap_value(\n\u001b[0;32m    323\u001b[0m                 response.get('value', None))\n",
      "\u001b[1;32m~\\anaconda3\\lib\\site-packages\\selenium\\webdriver\\remote\\errorhandler.py\u001b[0m in \u001b[0;36mcheck_response\u001b[1;34m(self, response)\u001b[0m\n\u001b[0;32m    240\u001b[0m                 \u001b[0malert_text\u001b[0m \u001b[1;33m=\u001b[0m \u001b[0mvalue\u001b[0m\u001b[1;33m[\u001b[0m\u001b[1;34m'alert'\u001b[0m\u001b[1;33m]\u001b[0m\u001b[1;33m.\u001b[0m\u001b[0mget\u001b[0m\u001b[1;33m(\u001b[0m\u001b[1;34m'text'\u001b[0m\u001b[1;33m)\u001b[0m\u001b[1;33m\u001b[0m\u001b[1;33m\u001b[0m\u001b[0m\n\u001b[0;32m    241\u001b[0m             \u001b[1;32mraise\u001b[0m \u001b[0mexception_class\u001b[0m\u001b[1;33m(\u001b[0m\u001b[0mmessage\u001b[0m\u001b[1;33m,\u001b[0m \u001b[0mscreen\u001b[0m\u001b[1;33m,\u001b[0m \u001b[0mstacktrace\u001b[0m\u001b[1;33m,\u001b[0m \u001b[0malert_text\u001b[0m\u001b[1;33m)\u001b[0m\u001b[1;33m\u001b[0m\u001b[1;33m\u001b[0m\u001b[0m\n\u001b[1;32m--> 242\u001b[1;33m         \u001b[1;32mraise\u001b[0m \u001b[0mexception_class\u001b[0m\u001b[1;33m(\u001b[0m\u001b[0mmessage\u001b[0m\u001b[1;33m,\u001b[0m \u001b[0mscreen\u001b[0m\u001b[1;33m,\u001b[0m \u001b[0mstacktrace\u001b[0m\u001b[1;33m)\u001b[0m\u001b[1;33m\u001b[0m\u001b[1;33m\u001b[0m\u001b[0m\n\u001b[0m\u001b[0;32m    243\u001b[0m \u001b[1;33m\u001b[0m\u001b[0m\n\u001b[0;32m    244\u001b[0m     \u001b[1;32mdef\u001b[0m \u001b[0m_value_or_default\u001b[0m\u001b[1;33m(\u001b[0m\u001b[0mself\u001b[0m\u001b[1;33m,\u001b[0m \u001b[0mobj\u001b[0m\u001b[1;33m,\u001b[0m \u001b[0mkey\u001b[0m\u001b[1;33m,\u001b[0m \u001b[0mdefault\u001b[0m\u001b[1;33m)\u001b[0m\u001b[1;33m:\u001b[0m\u001b[1;33m\u001b[0m\u001b[1;33m\u001b[0m\u001b[0m\n",
      "\u001b[1;31mNoSuchElementException\u001b[0m: Message: Unable to locate element: //div/h2[@class=\"h4 mb-3\"]/a/span[@class=\"Counter\"]\n"
     ]
    }
   ],
   "source": [
    "data = []\n",
    "for i in range(1):\n",
    "    driver.get(url_list[i])\n",
    "    name = []\n",
    "    name.append(driver.find_element_by_xpath(\"//strong[@class='mr-2 flex-self-stretch']/a\").text)\n",
    "    print(name)\n",
    "    commits_url = url_list[i]+\"/commits/master\"\n",
    "    driver.get(commits_url)\n",
    "    commits_list = []\n",
    "    commits_obj = driver.find_elements_by_xpath('//*[contains(concat( \" \", @class, \" \" ), concat( \" \", \"js-navigation-open\", \" \" )) and (((count(preceding-sibling::*) + 1) = 1) and parent::*)]')\n",
    "    for obj in commits_obj:\n",
    "        if obj.get_attribute('aria-label')!=None:\n",
    "            s1 = obj.get_attribute('aria-label')\n",
    "            s1 = s1.replace(\"\\n\",\" \")\n",
    "            commits_list.append(s1)\n",
    "#     print(commits_list)\n",
    "    issues_url = url_list[i]+\"/issues\"\n",
    "    driver.get(issues_url)\n",
    "    issues_list = []\n",
    "    issues_obj = driver.find_elements_by_xpath('//div[@class=\"flex-auto min-width-0 p-2 pr-3 pr-md-2\"]/a')\n",
    "    for obj in issues_obj:\n",
    "        issues_list.append(obj.text)\n",
    "#     print(issues_list)\n",
    "    pulls_url = url_list[i]+\"/pulls\"\n",
    "    driver.get(pulls_url)\n",
    "    pulls_list = []\n",
    "    pulls_obj = driver.find_elements_by_xpath('//div[@class=\"flex-auto min-width-0 p-2 pr-3 pr-md-2\"]/a')\n",
    "    for obj in pulls_obj:\n",
    "        pulls_list.append(obj.text)\n",
    "#     print(pulls_list)\n",
    "    releases_list = []\n",
    "    package_list = []\n",
    "    r_obj = driver.find_elements_by_xpath('//div[@class=\"text-small\"]')\n",
    "    releases_list.append(r_obj[0].text)\n",
    "    package_list.append(r_obj[1].text)\n",
    "    print(releases_list)\n",
    "    contributor_list = []\n",
    "    contributor_list.append(driver.find_element_by_xpath('//div/h2[@class=\"h4 mb-3\"]/a/span[@class=\"Counter\"]').text)\n",
    "    print(contributor_list)\n",
    "    temp = []\n",
    "    temp.append(name)\n",
    "    temp.append(commits_list)\n",
    "    temp.append(issues_list)\n",
    "    temp.append(pulls_list)\n",
    "    temp.append(releases_list)\n",
    "    temp.append(contributor_list)\n",
    "    data.append(temp)"
   ]
  },
  {
   "cell_type": "code",
   "execution_count": null,
   "metadata": {},
   "outputs": [],
   "source": [
    "with open('github_data_with_releases.csv', 'w', newline='') as csvfile:\n",
    "    writer = csv.writer(csvfile)\n",
    "    writer.writerows(data)"
   ]
  },
  {
   "cell_type": "code",
   "execution_count": null,
   "metadata": {},
   "outputs": [],
   "source": [
    "print(len(data))"
   ]
  }
 ],
 "metadata": {
  "kernelspec": {
   "display_name": "Python 3",
   "language": "python",
   "name": "python3"
  },
  "language_info": {
   "codemirror_mode": {
    "name": "ipython",
    "version": 3
   },
   "file_extension": ".py",
   "mimetype": "text/x-python",
   "name": "python",
   "nbconvert_exporter": "python",
   "pygments_lexer": "ipython3",
   "version": "3.8.3"
  }
 },
 "nbformat": 4,
 "nbformat_minor": 2
}
