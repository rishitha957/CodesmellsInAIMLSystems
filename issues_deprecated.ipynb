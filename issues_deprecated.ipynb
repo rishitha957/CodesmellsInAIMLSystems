{
 "cells": [
  {
   "cell_type": "code",
   "execution_count": 17,
   "metadata": {},
   "outputs": [],
   "source": [
    "from selenium import webdriver\n",
    "from time import sleep\n",
    "from bs4 import BeautifulSoup, Comment\n",
    "import pandas as pd\n",
    "import csv"
   ]
  },
  {
   "cell_type": "code",
   "execution_count": 19,
   "metadata": {},
   "outputs": [],
   "source": [
    "driver = webdriver.Firefox()"
   ]
  },
  {
   "cell_type": "code",
   "execution_count": 24,
   "metadata": {},
   "outputs": [],
   "source": [
    "def scroll_to_bottom(driver):\n",
    "    lenOfPage = driver.execute_script(\"window.scrollTo(0, document.body.scrollHeight);var lenOfPage=document.body.scrollHeight;return lenOfPage;\")"
   ]
  },
  {
   "cell_type": "code",
   "execution_count": 35,
   "metadata": {},
   "outputs": [
    {
     "name": "stdout",
     "output_type": "stream",
     "text": [
      "480\n"
     ]
    }
   ],
   "source": [
    "issue_urls = []\n",
    "for i in range(1,60):\n",
    "    sleep(4)\n",
    "    url = \"https://github.com/search?p=\"+str(i)+\"&q=sklearn+deprecation&type=Issues\"\n",
    "    driver.get(url)\n",
    "#     scroll_to_bottom(driver)\n",
    "    issue_url_list = driver.find_elements_by_xpath(\"//div[@class='f4 text-normal']/a\")\n",
    "    for a in issue_url_list:\n",
    "        issue_urls.append(a.get_attribute('href'))\n",
    "print(len(issue_urls))"
   ]
  },
  {
   "cell_type": "code",
   "execution_count": 37,
   "metadata": {},
   "outputs": [
    {
     "name": "stdout",
     "output_type": "stream",
     "text": [
      "url (2) -  https://github.com/neurospin/pypreprocess/pull/331\n",
      "url (2) -  https://github.com/ScalaConsultants/Aspect-Based-Sentiment-Analysis/issues/13\n",
      "url (2) -  https://github.com/scikit-learn/scikit-learn/pull/9290\n",
      "url (2) -  https://github.com/gregversteeg/corex_topic/pull/39\n",
      "url (2) -  https://github.com/ScalaConsultants/Aspect-Based-Sentiment-Analysis/issues/13\n",
      "url (2) -  https://github.com/fairlearn/fairlearn-proposals/pull/11\n",
      "url (2) -  https://github.com/rapidsai/cuml/issues/2632\n",
      "url (2) -  https://github.com/amueller/introduction_to_ml_with_python/issues/113\n",
      "url (2) -  https://github.com/nestauk/nesta/issues/244\n",
      "url (2) -  https://github.com/scikit-learn/scikit-learn/pull/17849\n",
      "url (2) -  https://github.com/mne-tools/mne-python/issues/7860\n",
      "url (2) -  https://github.com/nielstron/quantulum3/issues/149\n",
      "url (2) -  https://github.com/scikit-learn/scikit-learn/pull/12069\n",
      "url (2) -  https://github.com/SMTorg/smt/issues/194\n",
      "url (2) -  https://github.com/BayesWitnesses/m2cgen/pull/200\n",
      "url (2) -  https://github.com/vzhou842/profanity-check/pull/13\n",
      "url (2) -  https://github.com/ROCmSoftwarePlatform/tensorflow-upstream/issues/449\n",
      "url (2) -  https://github.com/sphinx-gallery/sphinx-gallery/issues/717\n",
      "url (2) -  https://github.com/cisco/mindmeld/pull/157\n",
      "url (2) -  https://github.com/keras-team/keras-contrib/issues/512\n",
      "url (2) -  https://github.com/itdxer/neupy/issues/258\n",
      "url (2) -  https://github.com/DistrictDataLabs/yellowbrick/issues/903\n",
      "url (2) -  https://github.com/tensorflow/probability/issues/355\n",
      "url (2) -  https://github.com/automl/auto-sklearn/issues/844\n",
      "url (2) -  https://github.com/WojciechMigda/PyTsetlini/issues/4\n",
      "url (2) -  https://github.com/Avik-Jain/100-Days-Of-ML-Code/pull/73\n",
      "url (2) -  https://github.com/scikit-learn/scikit-learn/issues/17392\n",
      "url (2) -  https://github.com/SauceCat/pydqc/issues/4\n",
      "url (2) -  https://github.com/tensorflow/tensorflow/issues/28846\n",
      "url (2) -  https://github.com/r9y9/wavenet_vocoder/issues/192\n",
      "url (2) -  https://github.com/scikit-learn/scikit-learn/pull/17199\n",
      "url (2) -  https://github.com/lyp-deeplearning/deep_sort_yolov3/issues/1\n",
      "url (2) -  https://github.com/deepset-ai/FARM/issues/485\n",
      "url (2) -  https://github.com/civisanalytics/civis-python/issues/374\n",
      "url (2) -  https://github.com/scikit-learn/scikit-learn/pull/17679\n",
      "url (2) -  https://github.com/junyanz/interactive-deep-colorization/issues/10\n",
      "url (2) -  https://github.com/bioFAM/MOFA2/issues/41\n",
      "url (2) -  https://github.com/scikit-learn/scikit-learn/issues/17209\n",
      "url (2) -  https://github.com/scikit-learn/scikit-learn/pull/15730\n",
      "url (2) -  https://github.com/PyThaiNLP/pythainlp/issues/330\n",
      "url (2) -  https://github.com/nubank/fklearn/issues/56\n",
      "url (2) -  https://github.com/scikit-learn/scikit-learn/issues/10708\n",
      "url (2) -  https://github.com/udacity/ud120-projects/pull/79\n",
      "url (2) -  https://github.com/jingweimo/food-image-classification-/issues/1\n",
      "url (2) -  https://github.com/adriangb/scikeras/pull/67\n",
      "url (2) -  https://github.com/scikit-learn/scikit-learn/pull/17803\n",
      "url (2) -  https://github.com/banditml/banditml/pull/19\n",
      "url (2) -  https://github.com/scikit-learn/scikit-learn/pull/14898\n",
      "url (2) -  https://github.com/tslearn-team/tslearn/issues/221\n",
      "url (2) -  https://github.com/RaRe-Technologies/gensim/pull/2821\n",
      "url (2) -  https://github.com/inovex/justcause/issues/18\n",
      "url (2) -  https://github.com/Teichlab/cellphonedb/issues/153\n",
      "url (2) -  https://github.com/skorch-dev/skorch/issues/521\n",
      "url (2) -  https://github.com/equinor/gordo/issues/920\n",
      "url (2) -  https://github.com/podgorskiy/ALAE/issues/15\n",
      "url (2) -  https://github.com/librosa/librosa/issues/1156\n",
      "url (2) -  https://github.com/MOAISUS/pycaret/pull/29\n",
      "url (2) -  https://github.com/flatironinstitute/CaImAn/issues/708\n",
      "url (2) -  https://github.com/scikit-learn/scikit-learn/issues/2879\n",
      "url (2) -  https://github.com/tensorflow/tensorflow/issues/23198\n",
      "url (2) -  https://github.com/civisanalytics/civisml-extensions/pull/47\n",
      "url (2) -  https://github.com/scikit-learn/scikit-learn/pull/15071\n",
      "url (2) -  https://github.com/conda/conda/issues/9658\n",
      "url (2) -  https://github.com/flatironinstitute/CaImAn/issues/691\n",
      "url (2) -  https://github.com/tensorflow/tensorflow/issues/34452\n",
      "url (2) -  https://github.com/lmcinnes/umap/issues/252\n",
      "url (2) -  https://github.com/dask/dask-ml/issues/560\n",
      "url (2) -  https://github.com/USGS-Astrogeology/PyHAT_Point_Spectra_GUI/issues/159\n",
      "url (2) -  https://github.com/vaexio/vaex/issues/363\n",
      "url (2) -  https://github.com/scikit-learn/scikit-learn/issues/15884\n",
      "url (2) -  https://github.com/nilearn/nilearn/pull/2256\n",
      "url (2) -  https://github.com/scikit-learn/scikit-learn/issues/14905\n",
      "url (2) -  https://github.com/scikit-learn/scikit-learn/issues/15805\n",
      "url (2) -  https://github.com/bioinfo-ut/PhenotypeSeeker/issues/10\n",
      "url (2) -  https://github.com/snipsco/snips-nlu/issues/864\n",
      "url (2) -  https://github.com/scikit-learn-contrib/imbalanced-learn/issues/297\n",
      "url (2) -  https://github.com/Qiskit/qiskit-aqua/pull/722\n",
      "0 480 480\n"
     ]
    }
   ],
   "source": [
    "description = []\n",
    "labels = []\n",
    "for url in issue_urls:\n",
    "    driver.get(url)\n",
    "    scroll_to_bottom(driver)\n",
    "    s=\"\"\n",
    "    try:\n",
    "        desc_list = driver.find_elements_by_xpath(\"//td[@class='d-block comment-body markdown-body  js-comment-body']/p\")\n",
    "        for p in desc_list:\n",
    "            s+=p.text\n",
    "    except:\n",
    "        print(\"url (1) - \",url)\n",
    "#     print(s)\n",
    "    description.append(s)\n",
    "    try:\n",
    "        s=driver.find_element_by_xpath(\"//div[@class='labels css-truncate js-issue-labels']\").text\n",
    "    except:\n",
    "        print(\"url (2) - \",url)\n",
    "        s=\"None\"\n",
    "    labels.append(s)\n",
    "#     print(s)\n",
    "print(len(code_list),len(description),len(labels))"
   ]
  },
  {
   "cell_type": "code",
   "execution_count": 42,
   "metadata": {},
   "outputs": [],
   "source": [
    "with open('issues_with_deprecation.csv','w') as f:\n",
    "    wr = csv.writer(f)\n",
    "    rows = zip(issue_urls, description, labels)\n",
    "    for row in rows:\n",
    "        try:\n",
    "            wr.writerow(row)\n",
    "        except:\n",
    "            continue"
   ]
  }
 ],
 "metadata": {
  "kernelspec": {
   "display_name": "Python 3",
   "language": "python",
   "name": "python3"
  },
  "language_info": {
   "codemirror_mode": {
    "name": "ipython",
    "version": 3
   },
   "file_extension": ".py",
   "mimetype": "text/x-python",
   "name": "python",
   "nbconvert_exporter": "python",
   "pygments_lexer": "ipython3",
   "version": "3.8.3"
  }
 },
 "nbformat": 4,
 "nbformat_minor": 4
}
